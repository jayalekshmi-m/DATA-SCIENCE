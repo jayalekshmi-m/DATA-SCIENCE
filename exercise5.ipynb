{
 "cells": [
  {
   "cell_type": "code",
   "execution_count": null,
   "id": "780facfc",
   "metadata": {},
   "outputs": [],
   "source": [
    "#KNN"
   ]
  },
  {
   "cell_type": "code",
   "execution_count": 1,
   "id": "d4ce020f",
   "metadata": {},
   "outputs": [],
   "source": [
    "from sklearn.datasets import load_iris\n",
    "from sklearn.model_selection import train_test_split\n",
    "from sklearn.neighbors import KNeighborsClassifier\n",
    "from sklearn import metrics\n",
    "from sklearn.metrics import confusion_matrix\n"
   ]
  },
  {
   "cell_type": "code",
   "execution_count": 2,
   "id": "ecd69541",
   "metadata": {},
   "outputs": [
    {
     "name": "stdout",
     "output_type": "stream",
     "text": [
      "Accuracy: 0.9555555555555556\n",
      "[np.str_('setosa')]\n"
     ]
    },
    {
     "data": {
      "text/plain": [
       "array([[14,  0,  0],\n",
       "       [ 0, 17,  1],\n",
       "       [ 0,  1, 12]])"
      ]
     },
     "execution_count": 2,
     "metadata": {},
     "output_type": "execute_result"
    }
   ],
   "source": [
    "#2️⃣ Loading the dataset\n",
    "iris = load_iris()\n",
    "x = iris.data\n",
    "y = iris.target\n",
    "\n",
    "#3 splitting the dataset\n",
    "x_train, x_test, y_train, y_test = train_test_split(x, y, test_size=0.3)\n",
    "\n",
    "#4 creating and training the knn model\n",
    "c_knn = KNeighborsClassifier(n_neighbors=3)\n",
    "c_knn.fit(x_train, y_train)\n",
    "\n",
    "#5 testng(making predictions)\n",
    "y_pred = c_knn.predict(x_test)\n",
    "\n",
    "#6 calculating accuracy\n",
    "print(\"Accuracy:\", metrics.accuracy_score(y_test, y_pred))\n",
    "\n",
    "#7 predicting a new flower\n",
    "sample = [[2, 2, 2, 2]]\n",
    "pred = c_knn.predict(sample)\n",
    "pred_v = [iris.target_names[p] for p in pred]\n",
    "print(pred_v)\n",
    "\n",
    "#8 confusion matrix\n",
    "confusion_matrix(y_test, y_pred)\n"
   ]
  },
  {
   "cell_type": "code",
   "execution_count": null,
   "id": "ed1c4281",
   "metadata": {},
   "outputs": [],
   "source": [
    "# explanation of last step\n",
    "# For example, the output might look like:\n",
    "\n",
    "# array([[16,  0,  0],\n",
    "#        [ 0, 13,  1],\n",
    "#        [ 0,  2, 13]])\n",
    "\n",
    "\n",
    "# Interpretation:\n",
    "\n",
    "# Row = actual class\n",
    "# Column = predicted class\n",
    "# Diagonal numbers (↘) → correct predictions\n",
    "# Off-diagonal numbers → mistakes\n",
    "# So, this matrix helps you see exactly where the model got confused."
   ]
  }
 ],
 "metadata": {
  "kernelspec": {
   "display_name": "Python 3",
   "language": "python",
   "name": "python3"
  },
  "language_info": {
   "codemirror_mode": {
    "name": "ipython",
    "version": 3
   },
   "file_extension": ".py",
   "mimetype": "text/x-python",
   "name": "python",
   "nbconvert_exporter": "python",
   "pygments_lexer": "ipython3",
   "version": "3.13.1"
  }
 },
 "nbformat": 4,
 "nbformat_minor": 5
}
