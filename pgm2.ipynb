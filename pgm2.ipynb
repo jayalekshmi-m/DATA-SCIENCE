{
 "cells": [
  {
   "cell_type": "code",
   "execution_count": 5,
   "id": "aaacfcf2",
   "metadata": {},
   "outputs": [
    {
     "name": "stdout",
     "output_type": "stream",
     "text": [
      "[2 3 4 5 6 7]\n",
      "[3 4 5 6]\n",
      "[2 3 4 5 6]\n",
      "[5 6 7]\n",
      "[4 5 6]\n",
      "[7 6 5]\n"
     ]
    }
   ],
   "source": [
    "# To create a NumPy array of numbers from 2 to 7.\n",
    "#To demonstrate array slicing (selecting parts of an array).\n",
    "\n",
    "import numpy as np\n",
    "arr=np.arange(2,8)\n",
    "print(arr)\n",
    "print (arr[1:5])\n",
    "print(arr[:5])\n",
    "print(arr[3:])\n",
    "print(arr[-4:-1])\n",
    "print(arr[-1:-4:-1])\n"
   ]
  },
  {
   "cell_type": "code",
   "execution_count": 6,
   "id": "63afe0eb",
   "metadata": {},
   "outputs": [
    {
     "name": "stdout",
     "output_type": "stream",
     "text": [
      "[ 2  3 10  5  6  7  8  9]\n",
      "[ 2  3 10  5  6  7  8  9]\n"
     ]
    }
   ],
   "source": [
    "# To show what happens when you assign one array to another in NumPy and then modify one of them.\n",
    "# It demonstrates that arr2 is not a copy, it shares the same data with arr1.\n",
    "\n",
    "arr1=np.arange(2,10)\n",
    "arr2=arr1\n",
    "arr2[2]=10\n",
    "print(arr1)\n",
    "print(arr2)"
   ]
  },
  {
   "cell_type": "code",
   "execution_count": 7,
   "id": "a94df08b",
   "metadata": {},
   "outputs": [
    {
     "name": "stdout",
     "output_type": "stream",
     "text": [
      "[2 3 4 5 6 7 8 9]\n",
      "[ 2  3 10  5  6  7  8  9]\n"
     ]
    }
   ],
   "source": [
    "# To show how to create an independent copy of a NumPy array.\n",
    "# To demonstrate that modifying the copy does NOT affect the original array.\n",
    "\n",
    "arr1=np.arange(2,10)\n",
    "arr2=np.copy(arr1)\n",
    "arr2[2]=10\n",
    "print(arr1)\n",
    "print(arr2)"
   ]
  },
  {
   "cell_type": "code",
   "execution_count": 12,
   "id": "8e42ba0b",
   "metadata": {},
   "outputs": [
    {
     "name": "stdout",
     "output_type": "stream",
     "text": [
      "[2 3 4 5 6 7 8 9] [11 12 13 14 15 16 17 18 19]\n",
      "[ 2  3  4  5  6  7  8  9 11 12 13 14 15 16 17 18 19]\n"
     ]
    }
   ],
   "source": [
    "# To create two separate NumPy arrays a and b.\n",
    "# To join (concatenate) them into a single array c.\n",
    "\n",
    "arr1=np.arange(2,10)\n",
    "arr2=np.arange(11,20)\n",
    "print(arr1,arr2)\n",
    "arr3=np.concatenate((arr1,arr2))\n",
    "print(arr3)"
   ]
  },
  {
   "cell_type": "code",
   "execution_count": 13,
   "id": "0265c3a8",
   "metadata": {},
   "outputs": [
    {
     "name": "stdout",
     "output_type": "stream",
     "text": [
      "[[1 2 3]\n",
      " [4 5 6]]\n",
      "[[11 22]\n",
      " [44 55]]\n",
      "[[ 1  2  3 11 22]\n",
      " [ 4  5  6 44 55]]\n"
     ]
    }
   ],
   "source": [
    "# To create two 2D arrays (matrices) of different shapes.\n",
    "# To show how to concatenate 2D arrays along columns using axis=1.\n",
    "\n",
    "matrix1=np.array(([1,2,3],[4,5,6]))\n",
    "matrix2=np.array(([11,22],[44,55]))\n",
    "print(matrix1)\n",
    "print(matrix2)\n",
    "matrix3=np.concatenate((matrix1,matrix2),axis=1)\n",
    "print(matrix3)"
   ]
  },
  {
   "cell_type": "code",
   "execution_count": 14,
   "id": "72668e87",
   "metadata": {},
   "outputs": [
    {
     "name": "stdout",
     "output_type": "stream",
     "text": [
      "[[ 1  2]\n",
      " [ 4  5]\n",
      " [11 22]\n",
      " [44 55]]\n",
      "[[ 1  2 11 22]\n",
      " [ 4  5 44 55]]\n"
     ]
    }
   ],
   "source": [
    "# To create two 2×2 matrices.\n",
    "# To demonstrate vertical concatenation (default axis=0) and horizontal concatenation (axis=1).\n",
    "\n",
    "mat1=np.array(([1,2],[4,5]))\n",
    "mat2=np.array(([11,22],[44,55]))\n",
    "mat3=np.concatenate((mat1,mat2))\n",
    "print(mat3)\n",
    "mat3=np.concatenate((mat1,mat2),axis=1)\n",
    "print(mat3)"
   ]
  },
  {
   "cell_type": "code",
   "execution_count": 15,
   "id": "582b26fc",
   "metadata": {},
   "outputs": [
    {
     "name": "stdout",
     "output_type": "stream",
     "text": [
      "[1 2 3]\n",
      "[1 2]\n",
      "not found\n"
     ]
    }
   ],
   "source": [
    "# To find positions (indices) of elements in a NumPy array that satisfy a condition.\n",
    "# To show how to handle cases where no element satisfies the condition.\n",
    "\n",
    "arr=np.array((4,6,6,7))\n",
    "x=np.where(arr >= 6)\n",
    "print(x[0])\n",
    "x=np.where(arr == 6)\n",
    "print(x[0])\n",
    "x=np.where(arr == 9)\n",
    "if(x[0].size >= 1):\n",
    "    print(x[0])\n",
    "else:\n",
    "    print(\"not found\")"
   ]
  }
 ],
 "metadata": {
  "kernelspec": {
   "display_name": "Python 3",
   "language": "python",
   "name": "python3"
  },
  "language_info": {
   "codemirror_mode": {
    "name": "ipython",
    "version": 3
   },
   "file_extension": ".py",
   "mimetype": "text/x-python",
   "name": "python",
   "nbconvert_exporter": "python",
   "pygments_lexer": "ipython3",
   "version": "3.13.1"
  }
 },
 "nbformat": 4,
 "nbformat_minor": 5
}
