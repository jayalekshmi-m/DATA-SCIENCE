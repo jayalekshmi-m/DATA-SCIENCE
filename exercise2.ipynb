{
 "cells": [
  {
   "cell_type": "code",
   "execution_count": 1,
   "id": "820eb27c",
   "metadata": {},
   "outputs": [
    {
     "name": "stdout",
     "output_type": "stream",
     "text": [
      "enter the elements of first matrix:\n",
      "matrix1\n",
      " [[ 2.  5.  8.]\n",
      " [ 2.  4. 56.]\n",
      " [ 9.  9.  8.]]\n",
      "matrix2 \n",
      " [[ 3.  7. 10.]\n",
      " [70. 87.  0.]\n",
      " [ 7. 45. 67.]]\n"
     ]
    }
   ],
   "source": [
    "# ques 1\n",
    "import numpy as np\n",
    "\n",
    "mat1=np.empty((3,3))\n",
    "mat2=np.empty((3,3))\n",
    "print(\"enter the elements of first matrix:\")\n",
    "for i in range(0,3):\n",
    "    for j in range(0,3):\n",
    "        mat1[i][j]=int(input(f\"enter element {i},{j} of matrix1:\"))\n",
    "        mat2[i][j]=int(input(f\"enter element {i},{j} of matrix2:\"))\n",
    "print(f\"matrix1\\n {mat1}\")\n",
    "print(f\"matrix2 \\n {mat2}\")"
   ]
  },
  {
   "cell_type": "code",
   "execution_count": 2,
   "id": "6c18d0ea",
   "metadata": {},
   "outputs": [
    {
     "name": "stdout",
     "output_type": "stream",
     "text": [
      "transpose is: \n",
      " [[ 2.  2.  9.]\n",
      " [ 5.  4.  9.]\n",
      " [ 8. 56.  8.]]\n"
     ]
    }
   ],
   "source": [
    "transpose=np.transpose(mat1)\n",
    "print(f\"transpose is: \\n {transpose}\")"
   ]
  },
  {
   "cell_type": "code",
   "execution_count": 3,
   "id": "db5661aa",
   "metadata": {},
   "outputs": [
    {
     "name": "stdout",
     "output_type": "stream",
     "text": [
      "direct multiplication:\n",
      "[[  6.  35.  80.]\n",
      " [140. 348.   0.]\n",
      " [ 63. 405. 536.]]\n",
      "matrix multiplication:\n",
      "[[ 412.  809.  556.]\n",
      " [ 678. 2882. 3772.]\n",
      " [ 713. 1206.  626.]]\n"
     ]
    }
   ],
   "source": [
    "print(\"direct multiplication:\")\n",
    "print(mat1 * mat2)\n",
    "print(\"matrix multiplication:\")\n",
    "print(np.dot(mat1,mat2))"
   ]
  },
  {
   "cell_type": "code",
   "execution_count": 4,
   "id": "ab96893e",
   "metadata": {},
   "outputs": [
    {
     "name": "stdout",
     "output_type": "stream",
     "text": [
      "diangonal sum: 157.0\n"
     ]
    }
   ],
   "source": [
    "print(f\"diangonal sum: {np.trace(mat2)}\")"
   ]
  },
  {
   "cell_type": "code",
   "execution_count": 5,
   "id": "fce0c158",
   "metadata": {},
   "outputs": [
    {
     "name": "stdout",
     "output_type": "stream",
     "text": [
      "determinant is :1352.0000000000005\n"
     ]
    }
   ],
   "source": [
    "print(f\"determinant is :{np.linalg.det(mat1)}\")"
   ]
  },
  {
   "cell_type": "code",
   "execution_count": 6,
   "id": "d4398117",
   "metadata": {},
   "outputs": [
    {
     "name": "stdout",
     "output_type": "stream",
     "text": [
      "inverse is : \n",
      " [[-0.34911243  0.02366864  0.18343195]\n",
      " [ 0.36094675 -0.04142012 -0.07100592]\n",
      " [-0.01331361  0.01997041 -0.00147929]]\n"
     ]
    }
   ],
   "source": [
    "print(f\"inverse is : \\n {np.linalg.inv(mat1)}\")"
   ]
  },
  {
   "cell_type": "code",
   "execution_count": 7,
   "id": "78d10ce4",
   "metadata": {},
   "outputs": [
    {
     "name": "stdout",
     "output_type": "stream",
     "text": [
      "rank is : \n",
      " 3\n"
     ]
    }
   ],
   "source": [
    "print(f\"rank is : \\n {np.linalg.matrix_rank(mat1)}\")"
   ]
  },
  {
   "cell_type": "code",
   "execution_count": 8,
   "id": "224ce7c4",
   "metadata": {},
   "outputs": [
    {
     "name": "stdout",
     "output_type": "stream",
     "text": [
      "eigen values: \n",
      " [ 31.92682951  -2.79932725 -15.12750226]\n"
     ]
    }
   ],
   "source": [
    "print(f\"eigen values: \\n {np.linalg.eig(mat1).eigenvalues}\")"
   ]
  },
  {
   "cell_type": "code",
   "execution_count": 9,
   "id": "ff2ff948",
   "metadata": {},
   "outputs": [
    {
     "name": "stdout",
     "output_type": "stream",
     "text": [
      "eigen vectors: \n",
      " [[-0.25831961 -0.66441138  0.12656861]\n",
      " [-0.86817417  0.74438901 -0.94008465]\n",
      " [-0.42372702 -0.06665217  0.31657739]]\n"
     ]
    }
   ],
   "source": [
    "print(f\"eigen vectors: \\n {np.linalg.eig(mat1).eigenvectors}\")"
   ]
  }
 ],
 "metadata": {
  "kernelspec": {
   "display_name": "Python 3",
   "language": "python",
   "name": "python3"
  },
  "language_info": {
   "codemirror_mode": {
    "name": "ipython",
    "version": 3
   },
   "file_extension": ".py",
   "mimetype": "text/x-python",
   "name": "python",
   "nbconvert_exporter": "python",
   "pygments_lexer": "ipython3",
   "version": "3.13.1"
  }
 },
 "nbformat": 4,
 "nbformat_minor": 5
}
