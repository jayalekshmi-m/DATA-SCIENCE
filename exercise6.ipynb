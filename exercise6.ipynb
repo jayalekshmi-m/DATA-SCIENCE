{
 "cells": [
  {
   "cell_type": "code",
   "execution_count": null,
   "id": "d1be8000",
   "metadata": {},
   "outputs": [],
   "source": [
    "# Program to implement Naive Bayes algorithm using a standard dataset and find the accuracy"
   ]
  },
  {
   "cell_type": "code",
   "execution_count": 2,
   "id": "0a9882fd",
   "metadata": {},
   "outputs": [],
   "source": [
    "from sklearn.datasets import load_iris\n",
    "from sklearn.model_selection import train_test_split\n",
    "from sklearn.metrics import accuracy_score\n",
    "from sklearn.naive_bayes import GaussianNB"
   ]
  },
  {
   "cell_type": "code",
   "execution_count": 3,
   "id": "9c7b2cda",
   "metadata": {},
   "outputs": [
    {
     "name": "stdout",
     "output_type": "stream",
     "text": [
      "Accuracy= 0.8666666666666667\n"
     ]
    }
   ],
   "source": [
    "#loading dataset\n",
    "iris=load_iris()\n",
    "x=iris.data\n",
    "y=iris.target\n",
    "\n",
    "#splitting data\n",
    "x_train,x_test,y_train,y_test=train_test_split(x,y,test_size=0.3)\n",
    "\n",
    "#creating and training model\n",
    "model=GaussianNB()\n",
    "model.fit(x_train,y_train)\n",
    "\n",
    "#making predictions\n",
    "y_pred=model.predict(x_test)\n",
    "\n",
    "#calculating accuracy\n",
    "accuracy=accuracy_score(y_test,y_pred)\n",
    "print(\"Accuracy=\",accuracy)\n"
   ]
  },
  {
   "cell_type": "code",
   "execution_count": 4,
   "id": "47d162fd",
   "metadata": {},
   "outputs": [
    {
     "name": "stdout",
     "output_type": "stream",
     "text": [
      "Predicted species: ['setosa']\n"
     ]
    }
   ],
   "source": [
    "# Predict on new data\n",
    "new_sample = [[5.1, 3.5, 1.4, 0.2]]\n",
    "predicted_class = model.predict(new_sample)\n",
    "\n",
    "print(\"Predicted species:\", iris.target_names[predicted_class])"
   ]
  }
 ],
 "metadata": {
  "kernelspec": {
   "display_name": "Python 3",
   "language": "python",
   "name": "python3"
  },
  "language_info": {
   "codemirror_mode": {
    "name": "ipython",
    "version": 3
   },
   "file_extension": ".py",
   "mimetype": "text/x-python",
   "name": "python",
   "nbconvert_exporter": "python",
   "pygments_lexer": "ipython3",
   "version": "3.13.1"
  }
 },
 "nbformat": 4,
 "nbformat_minor": 5
}
