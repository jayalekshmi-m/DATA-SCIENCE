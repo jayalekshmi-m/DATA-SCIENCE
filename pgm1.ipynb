{
 "cells": [
  {
   "cell_type": "code",
   "execution_count": 2,
   "id": "295227f3",
   "metadata": {},
   "outputs": [
    {
     "name": "stdout",
     "output_type": "stream",
     "text": [
      "Defaulting to user installation because normal site-packages is not writeable\n",
      "Collecting numpy\n",
      "  Downloading numpy-2.3.4-cp313-cp313-win_amd64.whl.metadata (60 kB)\n",
      "Downloading numpy-2.3.4-cp313-cp313-win_amd64.whl (12.8 MB)\n",
      "   ---------------------------------------- 0.0/12.8 MB ? eta -:--:--\n",
      "   ---------------------------------------- 0.0/12.8 MB ? eta -:--:--\n",
      "    --------------------------------------- 0.3/12.8 MB ? eta -:--:--\n",
      "   - -------------------------------------- 0.5/12.8 MB 1.7 MB/s eta 0:00:08\n",
      "   --- ------------------------------------ 1.0/12.8 MB 2.0 MB/s eta 0:00:06\n",
      "   ---- ----------------------------------- 1.6/12.8 MB 2.0 MB/s eta 0:00:06\n",
      "   ----- ---------------------------------- 1.8/12.8 MB 1.9 MB/s eta 0:00:06\n",
      "   ------ --------------------------------- 2.1/12.8 MB 1.9 MB/s eta 0:00:06\n",
      "   ------- -------------------------------- 2.4/12.8 MB 1.8 MB/s eta 0:00:06\n",
      "   ------- -------------------------------- 2.4/12.8 MB 1.8 MB/s eta 0:00:06\n",
      "   ------- -------------------------------- 2.4/12.8 MB 1.8 MB/s eta 0:00:06\n",
      "   -------- ------------------------------- 2.6/12.8 MB 1.4 MB/s eta 0:00:08\n",
      "   --------- ------------------------------ 2.9/12.8 MB 1.3 MB/s eta 0:00:08\n",
      "   --------- ------------------------------ 3.1/12.8 MB 1.3 MB/s eta 0:00:08\n",
      "   ---------- ----------------------------- 3.4/12.8 MB 1.3 MB/s eta 0:00:08\n",
      "   ----------- ---------------------------- 3.7/12.8 MB 1.3 MB/s eta 0:00:08\n",
      "   ------------ --------------------------- 3.9/12.8 MB 1.3 MB/s eta 0:00:07\n",
      "   ------------- -------------------------- 4.5/12.8 MB 1.3 MB/s eta 0:00:07\n",
      "   -------------- ------------------------- 4.7/12.8 MB 1.3 MB/s eta 0:00:06\n",
      "   --------------- ------------------------ 5.0/12.8 MB 1.3 MB/s eta 0:00:06\n",
      "   ----------------- ---------------------- 5.5/12.8 MB 1.4 MB/s eta 0:00:06\n",
      "   ------------------ --------------------- 5.8/12.8 MB 1.4 MB/s eta 0:00:05\n",
      "   ------------------- -------------------- 6.3/12.8 MB 1.5 MB/s eta 0:00:05\n",
      "   --------------------- ------------------ 6.8/12.8 MB 1.5 MB/s eta 0:00:04\n",
      "   ---------------------- ----------------- 7.1/12.8 MB 1.5 MB/s eta 0:00:04\n",
      "   ---------------------- ----------------- 7.3/12.8 MB 1.5 MB/s eta 0:00:04\n",
      "   ----------------------- ---------------- 7.6/12.8 MB 1.5 MB/s eta 0:00:04\n",
      "   ------------------------ --------------- 7.9/12.8 MB 1.5 MB/s eta 0:00:04\n",
      "   ------------------------- -------------- 8.1/12.8 MB 1.5 MB/s eta 0:00:04\n",
      "   -------------------------- ------------- 8.4/12.8 MB 1.5 MB/s eta 0:00:03\n",
      "   --------------------------- ------------ 8.7/12.8 MB 1.5 MB/s eta 0:00:03\n",
      "   ---------------------------- ----------- 9.2/12.8 MB 1.5 MB/s eta 0:00:03\n",
      "   ----------------------------- ---------- 9.4/12.8 MB 1.5 MB/s eta 0:00:03\n",
      "   ------------------------------ --------- 9.7/12.8 MB 1.5 MB/s eta 0:00:03\n",
      "   ------------------------------- -------- 10.0/12.8 MB 1.5 MB/s eta 0:00:02\n",
      "   ------------------------------- -------- 10.0/12.8 MB 1.5 MB/s eta 0:00:02\n",
      "   ------------------------------- -------- 10.2/12.8 MB 1.4 MB/s eta 0:00:02\n",
      "   ------------------------------- -------- 10.2/12.8 MB 1.4 MB/s eta 0:00:02\n",
      "   --------------------------------- ------ 10.7/12.8 MB 1.4 MB/s eta 0:00:02\n",
      "   --------------------------------- ------ 10.7/12.8 MB 1.4 MB/s eta 0:00:02\n",
      "   --------------------------------- ------ 10.7/12.8 MB 1.4 MB/s eta 0:00:02\n",
      "   ---------------------------------- ----- 11.0/12.8 MB 1.4 MB/s eta 0:00:02\n",
      "   ----------------------------------- ---- 11.3/12.8 MB 1.4 MB/s eta 0:00:02\n",
      "   ------------------------------------ --- 11.5/12.8 MB 1.4 MB/s eta 0:00:01\n",
      "   ------------------------------------- -- 12.1/12.8 MB 1.4 MB/s eta 0:00:01\n",
      "   -------------------------------------- - 12.3/12.8 MB 1.4 MB/s eta 0:00:01\n",
      "   ---------------------------------------- 12.8/12.8 MB 1.4 MB/s eta 0:00:00\n",
      "Installing collected packages: numpy\n",
      "Successfully installed numpy-2.3.4\n"
     ]
    },
    {
     "name": "stderr",
     "output_type": "stream",
     "text": [
      "\n",
      "[notice] A new release of pip is available: 24.3.1 -> 25.2\n",
      "[notice] To update, run: python.exe -m pip install --upgrade pip\n"
     ]
    }
   ],
   "source": [
    "!pip install numpy\n"
   ]
  },
  {
   "cell_type": "code",
   "execution_count": null,
   "id": "c0a84ca6",
   "metadata": {},
   "outputs": [
    {
     "name": "stdout",
     "output_type": "stream",
     "text": [
      "[1 2 3 4 5]\n",
      "<class 'numpy.ndarray'>\n"
     ]
    }
   ],
   "source": [
    "import numpy as np\n",
    "\n",
    "#to create display and check the type of a numpy array\n",
    "p=np.array((1,2,3,4,5))\n",
    "print(p)\n",
    "print(type(p))\n"
   ]
  },
  {
   "cell_type": "code",
   "execution_count": null,
   "id": "9574b8c5",
   "metadata": {},
   "outputs": [
    {
     "name": "stdout",
     "output_type": "stream",
     "text": [
      "[ 2  4  6  8 10]\n"
     ]
    }
   ],
   "source": [
    "#to create a numpy array of numbers from 2 to 10 with diff 2 and print it\n",
    "a=np.arange(2,11,2)\n",
    "print(a)"
   ]
  },
  {
   "cell_type": "code",
   "execution_count": 8,
   "id": "aff44685",
   "metadata": {},
   "outputs": [
    {
     "name": "stdout",
     "output_type": "stream",
     "text": [
      "[0 0 0 0 0 0 0 0 0 0]\n"
     ]
    }
   ],
   "source": [
    "# to create an array of zeroes\n",
    "\n",
    "p=np.zeros(10,int)\n",
    "print(p)"
   ]
  },
  {
   "cell_type": "code",
   "execution_count": 9,
   "id": "8eb097d1",
   "metadata": {},
   "outputs": [
    {
     "name": "stdout",
     "output_type": "stream",
     "text": [
      "[1. 1. 1. 1. 1. 1. 1. 1. 1. 1.]\n"
     ]
    }
   ],
   "source": [
    "## to create an array of zeroes\n",
    "\n",
    "p=np.ones(10)\n",
    "print(p)"
   ]
  },
  {
   "cell_type": "code",
   "execution_count": 10,
   "id": "10863397",
   "metadata": {},
   "outputs": [
    {
     "name": "stdout",
     "output_type": "stream",
     "text": [
      "[[1 1 1]\n",
      " [1 1 1]\n",
      " [1 1 1]]\n"
     ]
    }
   ],
   "source": [
    "#To create a 3×3 matrix (2D array) filled with 1s, where each element is an integer, and then print it.\n",
    "\n",
    "p=np.ones((3,3),int)\n",
    "print(p)"
   ]
  },
  {
   "cell_type": "code",
   "execution_count": 12,
   "id": "fd8e2ecd",
   "metadata": {},
   "outputs": [
    {
     "name": "stdout",
     "output_type": "stream",
     "text": [
      "[[1 2 3]\n",
      " [4 5 6]\n",
      " [7 8 9]]\n"
     ]
    }
   ],
   "source": [
    "# To create a 3×3 NumPy matrix (2D array) with specific values that you provide, and print it.\n",
    "\n",
    "matrix=np.array([[1,2,3],[4,5,6],[7,8,9]])\n",
    "print(matrix)"
   ]
  },
  {
   "cell_type": "code",
   "execution_count": 13,
   "id": "4adcbfd0",
   "metadata": {},
   "outputs": [
    {
     "name": "stdout",
     "output_type": "stream",
     "text": [
      "[[1. 0. 0.]\n",
      " [0. 1. 0.]\n",
      " [0. 0. 1.]]\n"
     ]
    }
   ],
   "source": [
    "# To create and display a 3×3 identity matrix using NumPy’s np.eye() function.\n",
    "\n",
    "identity_matrix=np.eye(3)\n",
    "print(identity_matrix)"
   ]
  }
 ],
 "metadata": {
  "kernelspec": {
   "display_name": "Python 3",
   "language": "python",
   "name": "python3"
  },
  "language_info": {
   "codemirror_mode": {
    "name": "ipython",
    "version": 3
   },
   "file_extension": ".py",
   "mimetype": "text/x-python",
   "name": "python",
   "nbconvert_exporter": "python",
   "pygments_lexer": "ipython3",
   "version": "3.13.1"
  }
 },
 "nbformat": 4,
 "nbformat_minor": 5
}
