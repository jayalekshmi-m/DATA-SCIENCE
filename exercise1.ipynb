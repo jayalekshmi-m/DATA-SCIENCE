{
 "cells": [
  {
   "cell_type": "code",
   "execution_count": 6,
   "id": "7069c622",
   "metadata": {},
   "outputs": [
    {
     "name": "stdout",
     "output_type": "stream",
     "text": [
      "[-40.          -1.11111111   0.          -5.        ]\n"
     ]
    }
   ],
   "source": [
    "# ques 1\n",
    "import numpy as np\n",
    "from numpy import random\n",
    "\n",
    "f=np.array((-40,30,32,23))\n",
    "c=(f-32)*(5/9)\n",
    "print(c)"
   ]
  },
  {
   "cell_type": "code",
   "execution_count": 3,
   "id": "ba30338b",
   "metadata": {},
   "outputs": [
    {
     "name": "stdout",
     "output_type": "stream",
     "text": [
      "Mean is 50.733\n",
      " Varience is 797.5657110000001\n",
      " Standard deviation is 28.241205905555805\n"
     ]
    }
   ],
   "source": [
    "# ques 2\n",
    "\n",
    "arr = random.randint(100,size=(1000))\n",
    "variance = np.var(arr)\n",
    "mean= np.mean(arr)\n",
    "standard_deviation= np.std(arr)\n",
    "print(f\"Mean is {mean}\\n Varience is {variance}\\n Standard deviation is {standard_deviation}\")"
   ]
  },
  {
   "cell_type": "code",
   "execution_count": 4,
   "id": "258552e3",
   "metadata": {},
   "outputs": [
    {
     "name": "stdout",
     "output_type": "stream",
     "text": [
      "[196 291  92 146 164]\n",
      "[3.42084533 5.07890812 1.60570291 2.54818071 2.86233997]\n"
     ]
    }
   ],
   "source": [
    "# ques 3\n",
    "angles=random.randint(360,size=(5))\n",
    "radians=np.radians(angles)\n",
    "print(angles)\n",
    "print(radians)"
   ]
  },
  {
   "cell_type": "code",
   "execution_count": 5,
   "id": "376bad95",
   "metadata": {},
   "outputs": [
    {
     "name": "stdout",
     "output_type": "stream",
     "text": [
      "[12  3  1 12 14]\n",
      "[-9 -2 11  2]\n"
     ]
    }
   ],
   "source": [
    "# ques 4\n",
    "arr=random.randint(20,size=(5))\n",
    "difference=np.diff(arr)\n",
    "print(arr)\n",
    "print(difference)"
   ]
  },
  {
   "cell_type": "code",
   "execution_count": 6,
   "id": "e1d67088",
   "metadata": {},
   "outputs": [
    {
     "name": "stdout",
     "output_type": "stream",
     "text": [
      "[ 1.+2.j  3.-1.j  1.-5.j  3.-2.j 12.-7.j]\n",
      "[ 1.-5.j  1.+2.j  3.-2.j  3.-1.j 12.-7.j]\n"
     ]
    }
   ],
   "source": [
    "# ques 5\n",
    "arr=np.array([1+2j,3-1j,1-5j,3-2j,12-7j])\n",
    "sort=np.sort_complex(arr)\n",
    "print(arr)\n",
    "print(sort)"
   ]
  },
  {
   "cell_type": "code",
   "execution_count": 7,
   "id": "862b2f0a",
   "metadata": {},
   "outputs": [
    {
     "name": "stdout",
     "output_type": "stream",
     "text": [
      "[ 2  6  3 13  5]\n",
      "[np.int32(6), np.int32(13), np.int32(5)]\n"
     ]
    }
   ],
   "source": [
    "# ques 6\n",
    "arr=random.randint(0,20,size=(5))\n",
    "print(arr)\n",
    "print([x for x in arr if x>4])"
   ]
  },
  {
   "cell_type": "code",
   "execution_count": null,
   "id": "999fae89",
   "metadata": {},
   "outputs": [
    {
     "name": "stdout",
     "output_type": "stream",
     "text": [
      "[12  1  3  5  1]\n",
      "number found at 1\n",
      "number found at 4\n"
     ]
    }
   ],
   "source": [
    "# ques 7\n",
    "arr=random.randint(0,20,size=(5))\n",
    "print(arr)\n",
    "k=int(input(\"enter a num to search:\"))\n",
    "found=0\n",
    "for i in range(0,5):\n",
    "    if arr[i]==k:\n",
    "        print(f\"number found at {i}\")\n",
    "        found=1\n",
    "if found==0:\n",
    "    print(\"not found\")"
   ]
  },
  {
   "cell_type": "code",
   "execution_count": 12,
   "id": "d572976c",
   "metadata": {},
   "outputs": [
    {
     "name": "stdout",
     "output_type": "stream",
     "text": [
      "the loaded text is [2. 3. 6. 1. 6. 9.]\n"
     ]
    }
   ],
   "source": [
    "# ques 8\n",
    "arr=np.array([2,3,6,1,6,9])\n",
    "np.savetxt(\"num.txt\",arr)\n",
    "loaded=np.loadtxt(\"num.txt\")\n",
    "print(f\"the loaded text is {loaded}\")"
   ]
  },
  {
   "cell_type": "code",
   "execution_count": 13,
   "id": "8d4b800a",
   "metadata": {},
   "outputs": [
    {
     "name": "stdout",
     "output_type": "stream",
     "text": [
      "[30 32 34 36 38 40 42 44 46 48 50 52 54 56 58 60]\n"
     ]
    }
   ],
   "source": [
    "# ques 9\n",
    "evenarr=np.arange(30,61,2)\n",
    "print(evenarr)"
   ]
  },
  {
   "cell_type": "code",
   "execution_count": 14,
   "id": "7c9704b7",
   "metadata": {},
   "outputs": [
    {
     "name": "stdout",
     "output_type": "stream",
     "text": [
      "[[5 2 3]\n",
      " [3 6 3]\n",
      " [3 4 2]]\n",
      "all sum: 31\n",
      "col sum: [11 12  8]\n",
      "row sum : [10 12  9]\n"
     ]
    }
   ],
   "source": [
    "# ques 10\n",
    "arr=random.randint(1,8,size=(3,3))\n",
    "print(arr)\n",
    "all_sum=np.sum(arr)\n",
    "col_sum=np.sum(arr,axis=0)\n",
    "row_sum=np.sum(arr,axis=1)\n",
    "print(f\"all sum: {all_sum}\")\n",
    "print(f\"col sum: {col_sum}\")\n",
    "print(f\"row sum : {row_sum}\")"
   ]
  }
 ],
 "metadata": {
  "kernelspec": {
   "display_name": "Python 3",
   "language": "python",
   "name": "python3"
  },
  "language_info": {
   "codemirror_mode": {
    "name": "ipython",
    "version": 3
   },
   "file_extension": ".py",
   "mimetype": "text/x-python",
   "name": "python",
   "nbconvert_exporter": "python",
   "pygments_lexer": "ipython3",
   "version": "3.13.1"
  }
 },
 "nbformat": 4,
 "nbformat_minor": 5
}
